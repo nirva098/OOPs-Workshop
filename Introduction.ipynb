{
 "cells": [
  {
   "cell_type": "markdown",
   "metadata": {},
   "source": [
    "# Why on earth we require programming paradigms ?"
   ]
  },
  {
   "cell_type": "markdown",
   "metadata": {},
   "source": [
    "Various programming paradigms:\n",
    "* Imperative Paradigm\n",
    "* Object-oriented Paradigm\n",
    "* Functional Paradigm\n",
    "* Logic Paradigm"
   ]
  },
  {
   "cell_type": "markdown",
   "metadata": {},
   "source": [
    "## Evolution of computing"
   ]
  },
  {
   "cell_type": "markdown",
   "metadata": {},
   "source": [
    "* Computing\n",
    "* Computing + Memory \n",
    "* Computing + Memory + Flow Control (Von Nueman Architecture)\n",
    "* Consept of subroutines "
   ]
  },
  {
   "cell_type": "markdown",
   "metadata": {},
   "source": [
    "## Reusing same piece of code"
   ]
  },
  {
   "cell_type": "markdown",
   "metadata": {},
   "source": [
    "Consider a situation where you need to perform some operation on a array of data(some stream of data). Procedural programming allowes us to write a sub-routine that can be used again and again to perform that task."
   ]
  },
  {
   "cell_type": "code",
   "execution_count": 3,
   "metadata": {},
   "outputs": [
    {
     "name": "stdout",
     "output_type": "stream",
     "text": [
      "Enter number greater than 1 to find its factorial:5\n",
      "120\n"
     ]
    }
   ],
   "source": [
    "# finding factorial of a number\n",
    "n = int(input(\"Enter number greater than 1 to find its factorial:\"))\n",
    "fact = 1\n",
    "for i in range(1,n+1):\n",
    "    fact *= i\n",
    "print(fact)"
   ]
  },
  {
   "cell_type": "code",
   "execution_count": 6,
   "metadata": {},
   "outputs": [
    {
     "name": "stdout",
     "output_type": "stream",
     "text": [
      "1! = 1\n",
      "2! = 2\n",
      "3! = 6\n",
      "4! = 24\n",
      "5! = 120\n"
     ]
    }
   ],
   "source": [
    "# Finding factorial of an array\n",
    "a = list(range(1,6))\n",
    "for i in a:\n",
    "    fact = 1\n",
    "    for k in range(1,i+1):\n",
    "        fact *= k\n",
    "    print('{}! = {}'.format(i,fact))"
   ]
  },
  {
   "cell_type": "markdown",
   "metadata": {},
   "source": [
    "Given program is not much tedious but it may be the case that we really need to perform some operation whose code is tedious to handle multiple times. Solution -> Functions:"
   ]
  },
  {
   "cell_type": "code",
   "execution_count": 9,
   "metadata": {
    "collapsed": true
   },
   "outputs": [],
   "source": [
    "def factorial(n):\n",
    "    if n<2:\n",
    "        return 1\n",
    "    else: return n*factorial(n-1)"
   ]
  },
  {
   "cell_type": "code",
   "execution_count": 10,
   "metadata": {},
   "outputs": [
    {
     "name": "stdout",
     "output_type": "stream",
     "text": [
      "1! = 1\n",
      "2! = 2\n",
      "3! = 6\n",
      "4! = 24\n",
      "5! = 120\n"
     ]
    }
   ],
   "source": [
    "a = list(range(1,6))\n",
    "for i in a:\n",
    "    print('{}! = {}'.format(i,factorial(i)))"
   ]
  },
  {
   "cell_type": "markdown",
   "metadata": {},
   "source": [
    "# Conclusion\n",
    "What we achieved?\n",
    "* Reusability of code\n",
    "* More clearer/ readable programs\n",
    "* Saving of memory\n",
    "\n",
    "What we lacks?\n",
    "* Real world analogy of progamming objects\n",
    "* Security and privacy\n",
    "* Abstraction\n",
    "* Polymorphism\n",
    "* Modifiaction and reuse (inheritance)"
   ]
  },
  {
   "cell_type": "code",
   "execution_count": null,
   "metadata": {
    "collapsed": true
   },
   "outputs": [],
   "source": []
  }
 ],
 "metadata": {
  "kernelspec": {
   "display_name": "Python 3",
   "language": "python",
   "name": "python3"
  },
  "language_info": {
   "codemirror_mode": {
    "name": "ipython",
    "version": 3
   },
   "file_extension": ".py",
   "mimetype": "text/x-python",
   "name": "python",
   "nbconvert_exporter": "python",
   "pygments_lexer": "ipython3",
   "version": "3.4.3"
  }
 },
 "nbformat": 4,
 "nbformat_minor": 2
}
