{
 "cells": [
  {
   "cell_type": "markdown",
   "metadata": {},
   "source": [
    "### Poly means many and morphism means forms!\n",
    "* In polymorphism, we will create a structure that can take or use many forms of objects."
   ]
  },
  {
   "cell_type": "markdown",
   "metadata": {},
   "source": [
    "### Need of polymorphism\n",
    "* Cosider the case, we are making a database software of animal husbandary and we wanna define a function .talk() which will give us an idea how a particular animal will talk.\n",
    "\n",
    "**all animals \"talk\", but they talk differently. The \"talk\" behaviour is thus polymorphic in the sense that it is realized differently depending on the animal. So, the abstract \"animal\" concept does not actually \"talk\", but specific animals (like dogs and cats) have a concrete implementation of the action \"talk\".**"
   ]
  },
  {
   "cell_type": "code",
   "execution_count": 1,
   "metadata": {},
   "outputs": [
    {
     "name": "stdout",
     "output_type": "stream",
     "text": [
      "Missy: Meow!\n",
      "Mr. Mistoffelees: Meow!\n",
      "Lassie: Woof! Woof!\n"
     ]
    }
   ],
   "source": [
    "class Animal:\n",
    "    def __init__(self, name):    # Constructor of the class\n",
    "        self.name = name\n",
    "    def talk(self):              # Abstract method, defined by convention only\n",
    "        raise NotImplementedError(\"Subclass must implement abstract method\")\n",
    "\n",
    "class Cat(Animal):\n",
    "    def talk(self):\n",
    "        return 'Meow!'\n",
    "\n",
    "class Dog(Animal):\n",
    "    def talk(self):\n",
    "        return 'Woof! Woof!'\n",
    "\n",
    "animals = [Cat('Missy'),\n",
    "           Cat('Mr. Mistoffelees'),\n",
    "           Dog('Lassie')]\n",
    "\n",
    "for animal in animals:\n",
    "    print(animal.name + ': ' + animal.talk())"
   ]
  },
  {
   "cell_type": "markdown",
   "metadata": {},
   "source": [
    "## Polymorphism in computation\n",
    "* There are different data type on which we can make computations like add, subtract etc.\n",
    "\n",
    "Lets give an abstract name to them , **numbers**\n",
    "\n",
    "Now, Numbers can be integer, float or a complex number.\n",
    "\n",
    "All can undergo addition operation. But, for each entinty the addition of a number has to implemented in different way. So, we can implement this idea in a similar manner as above example."
   ]
  },
  {
   "cell_type": "code",
   "execution_count": null,
   "metadata": {
    "collapsed": true
   },
   "outputs": [],
   "source": []
  }
 ],
 "metadata": {
  "kernelspec": {
   "display_name": "Python 3",
   "language": "python",
   "name": "python3"
  },
  "language_info": {
   "codemirror_mode": {
    "name": "ipython",
    "version": 3
   },
   "file_extension": ".py",
   "mimetype": "text/x-python",
   "name": "python",
   "nbconvert_exporter": "python",
   "pygments_lexer": "ipython3",
   "version": "3.4.3"
  }
 },
 "nbformat": 4,
 "nbformat_minor": 2
}
